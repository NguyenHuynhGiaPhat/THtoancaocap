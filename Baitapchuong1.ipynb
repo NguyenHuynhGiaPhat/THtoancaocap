{
  "nbformat": 4,
  "nbformat_minor": 0,
  "metadata": {
    "colab": {
      "name": " Baitapchuong1.ipynb",
      "provenance": [],
      "collapsed_sections": [],
      "authorship_tag": "ABX9TyObOklZw2QHXA/n7oMAZfJx",
      "include_colab_link": true
    },
    "kernelspec": {
      "name": "python3",
      "display_name": "Python 3"
    },
    "language_info": {
      "name": "python"
    }
  },
  "cells": [
    {
      "cell_type": "markdown",
      "metadata": {
        "id": "view-in-github",
        "colab_type": "text"
      },
      "source": [
        "<a href=\"https://colab.research.google.com/github/NguyenHuynhGiaPhat/THtoancaocap/blob/main/Baitapchuong1.ipynb\" target=\"_parent\"><img src=\"https://colab.research.google.com/assets/colab-badge.svg\" alt=\"Open In Colab\"/></a>"
      ]
    },
    {
      "cell_type": "markdown",
      "source": [
        "Thực hành 1: \n",
        "Cho blocks = 3,5,1000 qua các đoạn codecode"
      ],
      "metadata": {
        "id": "Ee5iML7GBztd"
      }
    },
    {
      "cell_type": "code",
      "source": [
        "blocks = 1000\n",
        "dayS = [1/2**n for n in range(0,blocks)]\n",
        "tongS = sum(dayS)\n",
        "print(tongS)"
      ],
      "metadata": {
        "colab": {
          "base_uri": "https://localhost:8080/"
        },
        "id": "oU-XVI5bBzQ1",
        "outputId": "85141e00-3535-4a8b-b1aa-631e3a502239"
      },
      "execution_count": null,
      "outputs": [
        {
          "output_type": "stream",
          "name": "stdout",
          "text": [
            "2.0\n"
          ]
        }
      ]
    },
    {
      "cell_type": "code",
      "source": [
        "blocks = 3 \n",
        "dayS = [1/2**n for n in range(0,blocks)]\n",
        "tongS = sum(dayS)\n",
        "print(tongS)"
      ],
      "metadata": {
        "colab": {
          "base_uri": "https://localhost:8080/"
        },
        "id": "oUrmsYc0DHRF",
        "outputId": "9d3a1c6b-0339-4963-9864-fb509189a189"
      },
      "execution_count": null,
      "outputs": [
        {
          "output_type": "stream",
          "name": "stdout",
          "text": [
            "1.75\n"
          ]
        }
      ]
    },
    {
      "cell_type": "code",
      "source": [
        "blocks = 5\n",
        "dayS = [1/2**n for n in range(0,blocks)]\n",
        "tongS = sum(dayS)\n",
        "print(tongS)"
      ],
      "metadata": {
        "colab": {
          "base_uri": "https://localhost:8080/"
        },
        "id": "FpvE5rqmDdCc",
        "outputId": "dd267b09-df16-4625-b322-adfa01ff938a"
      },
      "execution_count": null,
      "outputs": [
        {
          "output_type": "stream",
          "name": "stdout",
          "text": [
            "1.9375\n"
          ]
        }
      ]
    },
    {
      "cell_type": "markdown",
      "source": [
        "Thực hành 2: "
      ],
      "metadata": {
        "id": "h8fb1Qc7Dj7J"
      }
    },
    {
      "cell_type": "code",
      "source": [
        "n = 1000\n",
        "X = [2*k/n for k in range(0, n + 1 )]\n",
        "S = 0 \n",
        "for k in range(1, n+1):\n",
        "  S = S + X[k]**2*(X[k]-X[k-1])\n",
        "print(S)"
      ],
      "metadata": {
        "colab": {
          "base_uri": "https://localhost:8080/"
        },
        "id": "uHgWGNPgDpGj",
        "outputId": "9055906a-b2e3-4e61-cfe6-f2362fbd7b36"
      },
      "execution_count": null,
      "outputs": [
        {
          "output_type": "stream",
          "name": "stdout",
          "text": [
            "2.6706680000000027\n"
          ]
        }
      ]
    },
    {
      "cell_type": "markdown",
      "source": [
        "Thực hành 3: "
      ],
      "metadata": {
        "id": "DTsh5sc3EtT8"
      }
    },
    {
      "cell_type": "code",
      "source": [
        "from sympy import *\n",
        "Rational(1,2) + Rational(1,3)\n",
        "\n"
      ],
      "metadata": {
        "colab": {
          "base_uri": "https://localhost:8080/",
          "height": 51
        },
        "id": "_z4jxsCsEwHc",
        "outputId": "7160e9ca-ca3c-4fe8-894a-919a388795a5"
      },
      "execution_count": null,
      "outputs": [
        {
          "output_type": "execute_result",
          "data": {
            "text/latex": "$\\displaystyle \\frac{5}{6}$",
            "text/plain": [
              "5/6"
            ]
          },
          "metadata": {},
          "execution_count": 36
        }
      ]
    },
    {
      "cell_type": "code",
      "source": [
        "from sympy import *\n",
        "Rational(1,2) + 1"
      ],
      "metadata": {
        "colab": {
          "base_uri": "https://localhost:8080/",
          "height": 51
        },
        "id": "viA2NnC4Hbw8",
        "outputId": "e8827a94-ebd1-41c9-ecd6-a30015cd2180"
      },
      "execution_count": null,
      "outputs": [
        {
          "output_type": "execute_result",
          "data": {
            "text/latex": "$\\displaystyle \\frac{3}{2}$",
            "text/plain": [
              "3/2"
            ]
          },
          "metadata": {},
          "execution_count": 39
        }
      ]
    },
    {
      "cell_type": "code",
      "source": [
        "from sympy import *\n",
        "Rational(1,3) + 1 + 1.55"
      ],
      "metadata": {
        "colab": {
          "base_uri": "https://localhost:8080/",
          "height": 38
        },
        "id": "91mUwmW6HfBk",
        "outputId": "0c925e13-5ece-44a1-95db-f7f97f233b77"
      },
      "execution_count": null,
      "outputs": [
        {
          "output_type": "execute_result",
          "data": {
            "text/latex": "$\\displaystyle 2.88333333333333$",
            "text/plain": [
              "2.88333333333333"
            ]
          },
          "metadata": {},
          "execution_count": 37
        }
      ]
    },
    {
      "cell_type": "markdown",
      "source": [
        "Thực hành 4: "
      ],
      "metadata": {
        "id": "tLONuDpsHqLs"
      }
    },
    {
      "cell_type": "code",
      "source": [
        "from sympy import * \n",
        "x = Symbol('x')\n",
        "y = Symbol('y')\n",
        "x + y + x - y"
      ],
      "metadata": {
        "colab": {
          "base_uri": "https://localhost:8080/",
          "height": 39
        },
        "id": "LQ56e1VGJTRu",
        "outputId": "de8b359c-a070-40a6-d707-f833bc4a4ac6"
      },
      "execution_count": null,
      "outputs": [
        {
          "output_type": "execute_result",
          "data": {
            "text/latex": "$\\displaystyle 2 x$",
            "text/plain": [
              "2*x"
            ]
          },
          "metadata": {},
          "execution_count": 41
        }
      ]
    },
    {
      "cell_type": "markdown",
      "source": [
        "Thực hành 5:\n",
        "a) 1/x  x  1/x-3"
      ],
      "metadata": {
        "id": "uNn6JotGJrvC"
      }
    },
    {
      "cell_type": "code",
      "source": [
        "from sympy.solvers.solvers import denoms \n",
        "eq = (1/x)*1/(x-3)\n",
        "dd = denoms(eq)\n",
        "print(dd)"
      ],
      "metadata": {
        "colab": {
          "base_uri": "https://localhost:8080/"
        },
        "id": "pDky9g5tiloW",
        "outputId": "b2d6f217-6f0e-4bad-9adc-1e551febaabe"
      },
      "execution_count": null,
      "outputs": [
        {
          "output_type": "stream",
          "name": "stdout",
          "text": [
            "{x - 3, x}\n"
          ]
        }
      ]
    },
    {
      "cell_type": "markdown",
      "source": [
        "b) f = (1+1/x)/x-11"
      ],
      "metadata": {
        "id": "8fqSpDH7jU4V"
      }
    },
    {
      "cell_type": "code",
      "source": [
        "eq = (1+1/x)/(x-1)\n",
        "from sympy.solvers.solvers import denoms\n",
        "loai_tru = set()\n",
        "for d in denoms(eq):\n",
        "  for s in solve(d):\n",
        "    loai_tru.add(s)\n",
        "print(loai_tru)"
      ],
      "metadata": {
        "colab": {
          "base_uri": "https://localhost:8080/"
        },
        "id": "aa7W_QFTjb2X",
        "outputId": "26569c18-c1e7-4a2f-aa7e-e787ba6a9df4"
      },
      "execution_count": null,
      "outputs": [
        {
          "output_type": "stream",
          "name": "stdout",
          "text": [
            "{0, 1}\n"
          ]
        }
      ]
    },
    {
      "cell_type": "markdown",
      "source": [
        "Thực hành 6:\n"
      ],
      "metadata": {
        "id": "4tU_HwtBk57s"
      }
    },
    {
      "cell_type": "code",
      "source": [
        "from sympy import Symbol\n",
        "x = Symbol('x',positive = True)\n",
        "if(x+3) > 0:\n",
        "  print('Chắc chắn x+3 dương!')\n",
        "  #Nếu tổng này là số dương thì in ra \n",
        "else:\n",
        "  print('x+3 chưa chắc là số dương!')\n"
      ],
      "metadata": {
        "colab": {
          "base_uri": "https://localhost:8080/"
        },
        "id": "_UVlYKYuk8yU",
        "outputId": "2f7679d9-645c-4f3f-8a81-7881223b7e97"
      },
      "execution_count": null,
      "outputs": [
        {
          "output_type": "stream",
          "name": "stdout",
          "text": [
            "Chắc chắn x+3 dương!\n"
          ]
        }
      ]
    },
    {
      "cell_type": "markdown",
      "source": [
        "Thực hành 7:\n",
        "VD1: "
      ],
      "metadata": {
        "id": "_j8BWaiDmget"
      }
    },
    {
      "cell_type": "code",
      "source": [
        "from sympy import Symbol\n",
        "goc_theta = Symbol('theta')\n",
        "import sympy\n",
        "sympy.sin(goc_theta) + sympy.sin(goc_theta)\n",
        "2*sympy.sin(goc_theta) == sympy.sin(goc_theta) + sympy.sin(goc_theta)\n",
        "\n"
      ],
      "metadata": {
        "colab": {
          "base_uri": "https://localhost:8080/"
        },
        "id": "66i8ljb4miHj",
        "outputId": "3bed2d18-f061-44c2-eded-78f33565c981"
      },
      "execution_count": null,
      "outputs": [
        {
          "output_type": "execute_result",
          "data": {
            "text/plain": [
              "True"
            ]
          },
          "metadata": {},
          "execution_count": 68
        }
      ]
    },
    {
      "cell_type": "markdown",
      "source": [
        "Vậy qua 2 biểu thức trên đều ra cùng 1 kết quả như nhau khi sử dụng cả 2 biểu thức\n"
      ],
      "metadata": {
        "id": "U7rr46H-wzgM"
      }
    },
    {
      "cell_type": "markdown",
      "source": [
        "VD2:Chưngs minh biểu thức \n",
        "sin2x = 2sinxcosx"
      ],
      "metadata": {
        "id": "yT08X-MhxUJz"
      }
    },
    {
      "cell_type": "code",
      "source": [
        "from sympy import Symbol\n",
        "goc_theta = Symbol('theta')\n",
        "import sympy\n",
        "(2*sympy.sin(goc_theta)*sympy.cos(goc_theta)).equals(sympy.sin(2*goc_theta))"
      ],
      "metadata": {
        "colab": {
          "base_uri": "https://localhost:8080/"
        },
        "id": "9mTdHCR01MTM",
        "outputId": "78d6e461-45d5-48e4-e0cc-a9377c0e79f6"
      },
      "execution_count": null,
      "outputs": [
        {
          "output_type": "execute_result",
          "data": {
            "text/plain": [
              "True"
            ]
          },
          "metadata": {},
          "execution_count": 69
        }
      ]
    },
    {
      "cell_type": "markdown",
      "source": [
        "Thực hành 8: "
      ],
      "metadata": {
        "id": "I3mXW_AE1mmr"
      }
    },
    {
      "cell_type": "code",
      "source": [
        "from sympy import sin, solve, Symbol\n",
        "u = Symbol('u')\n",
        "t = Symbol('t')\n",
        "g = Symbol('g')\n",
        "theta = Symbol('theta')\n",
        "solve(u*sin(theta)-g*t,t)\n"
      ],
      "metadata": {
        "colab": {
          "base_uri": "https://localhost:8080/"
        },
        "id": "qgL5bBtR13GD",
        "outputId": "65e15e2f-8ef5-4fd7-9420-0f0352a19cb2"
      },
      "execution_count": null,
      "outputs": [
        {
          "output_type": "execute_result",
          "data": {
            "text/plain": [
              "[u*sin(theta)/g]"
            ]
          },
          "metadata": {},
          "execution_count": 71
        }
      ]
    },
    {
      "cell_type": "markdown",
      "source": [
        "Thực hành 9:\n"
      ],
      "metadata": {
        "id": "TURq6hle3rN7"
      }
    },
    {
      "cell_type": "code",
      "source": [
        "from sympy import Limit , Symbol, S\n",
        "x = Symbol('x')\n",
        "Limit(1/x,x, S.Infinity)\n",
        "gioihan = Limit(1/x,x, S.Infinity)\n",
        "gioihan.doit()\n"
      ],
      "metadata": {
        "colab": {
          "base_uri": "https://localhost:8080/",
          "height": 38
        },
        "id": "2Q-W49xz35PD",
        "outputId": "25394980-ac50-4ca4-ba97-64e7a786f4dc"
      },
      "execution_count": null,
      "outputs": [
        {
          "output_type": "execute_result",
          "data": {
            "text/latex": "$\\displaystyle 0$",
            "text/plain": [
              "0"
            ]
          },
          "metadata": {},
          "execution_count": 73
        }
      ]
    },
    {
      "cell_type": "markdown",
      "source": [
        "Thực hành 10a:\n"
      ],
      "metadata": {
        "id": "TxjzSORQ4lkz"
      }
    },
    {
      "cell_type": "code",
      "execution_count": null,
      "metadata": {
        "colab": {
          "base_uri": "https://localhost:8080/",
          "height": 38
        },
        "id": "YVflT7BhqyWm",
        "outputId": "23423815-0c13-4ac9-effd-06b9422183c8"
      },
      "outputs": [
        {
          "output_type": "execute_result",
          "data": {
            "text/latex": "$\\displaystyle -\\infty$",
            "text/plain": [
              "-oo"
            ]
          },
          "metadata": {},
          "execution_count": 12
        }
      ],
      "source": [
        "from sympy import Limit , Symbol\n",
        "x = Symbol('x')\n",
        "Limit(1/x,x,0,dir='-').doit()"
      ]
    },
    {
      "cell_type": "code",
      "source": [
        "from sympy import Limit , Symbol , sin\n",
        "x = Symbol('x')\n",
        "Limit(1/).doit()"
      ],
      "metadata": {
        "colab": {
          "base_uri": "https://localhost:8080/",
          "height": 38
        },
        "id": "9T7KXfn24oaB",
        "outputId": "1e062f7b-f829-432b-c6d6-4c1f3c43237a"
      },
      "execution_count": null,
      "outputs": [
        {
          "output_type": "execute_result",
          "data": {
            "text/latex": "$\\displaystyle \\infty$",
            "text/plain": [
              "oo"
            ]
          },
          "metadata": {},
          "execution_count": 74
        }
      ]
    },
    {
      "cell_type": "markdown",
      "source": [
        "Thực hành 10b:\n"
      ],
      "metadata": {
        "id": "dx0Cab-X-4nO"
      }
    },
    {
      "cell_type": "code",
      "source": [
        "from sympy import  Symbol, sin \n",
        "Limit(sin(x),x,0).doit()"
      ],
      "metadata": {
        "colab": {
          "base_uri": "https://localhost:8080/",
          "height": 38
        },
        "id": "-WeNW9X-46bc",
        "outputId": "237c7916-9e1c-4c2f-b657-fc12913b5fe8"
      },
      "execution_count": null,
      "outputs": [
        {
          "output_type": "execute_result",
          "data": {
            "text/latex": "$\\displaystyle 0$",
            "text/plain": [
              "0"
            ]
          },
          "metadata": {},
          "execution_count": 75
        }
      ]
    },
    {
      "cell_type": "markdown",
      "source": [
        "Thực hành 11a:\n"
      ],
      "metadata": {
        "id": "GLhTOtvg5Rjj"
      }
    },
    {
      "cell_type": "code",
      "source": [
        "from sympy import Limit , Symbol, sin, S\n",
        "x = Symbol('x')\n",
        "Limit(x*sin(1/x),x, S.Infinity)"
      ],
      "metadata": {
        "colab": {
          "base_uri": "https://localhost:8080/",
          "height": 58
        },
        "id": "7_l4KIYK5Ta5",
        "outputId": "b4da2292-24c4-42b6-b170-31384a131cdd"
      },
      "execution_count": null,
      "outputs": [
        {
          "output_type": "execute_result",
          "data": {
            "text/latex": "$\\displaystyle \\lim_{x \\to \\infty}\\left(x \\sin{\\left(\\frac{1}{x} \\right)}\\right)$",
            "text/plain": [
              "Limit(x*sin(1/x), x, oo, dir='-')"
            ]
          },
          "metadata": {},
          "execution_count": 77
        }
      ]
    },
    {
      "cell_type": "markdown",
      "source": [
        "Thực hành 11b:"
      ],
      "metadata": {
        "id": "nzrrLgrt7fzj"
      }
    },
    {
      "cell_type": "code",
      "source": [
        "from sympy import limit, sin, S\n",
        "limit(x*sin(1/x),x,S.Infinity)\n",
        "\n"
      ],
      "metadata": {
        "colab": {
          "base_uri": "https://localhost:8080/",
          "height": 38
        },
        "id": "wVqYNnxE7kZD",
        "outputId": "63236ccc-4c8c-49f3-c7d2-b43f806e9fcd"
      },
      "execution_count": null,
      "outputs": [
        {
          "output_type": "execute_result",
          "data": {
            "text/latex": "$\\displaystyle 1$",
            "text/plain": [
              "1"
            ]
          },
          "metadata": {},
          "execution_count": 78
        }
      ]
    },
    {
      "cell_type": "code",
      "source": [
        "from sympy import Limit, Symbol, S\n",
        "n = Symbol('n')\n",
        "Limit((1+1/n)**n, n , S.Infinity).doit()"
      ],
      "metadata": {
        "colab": {
          "base_uri": "https://localhost:8080/",
          "height": 39
        },
        "id": "8PFpao3q_pYL",
        "outputId": "c93b8a4a-b825-4490-e7e8-3a12b42dbb63"
      },
      "execution_count": null,
      "outputs": [
        {
          "output_type": "execute_result",
          "data": {
            "text/latex": "$\\displaystyle e$",
            "text/plain": [
              "E"
            ]
          },
          "metadata": {},
          "execution_count": 96
        }
      ]
    },
    {
      "cell_type": "markdown",
      "source": [
        "Thực hành 12:\n"
      ],
      "metadata": {
        "id": "hajOJBZt8o8k"
      }
    },
    {
      "cell_type": "code",
      "source": [
        "from sympy import  Symbol , Limit, S\n",
        "p = Symbol('p', positive=True)\n",
        "r = Symbol('r', positive=True)\n",
        "t = Symbol('t', positive=True)\n",
        "p*exp(r*t)\n"
      ],
      "metadata": {
        "colab": {
          "base_uri": "https://localhost:8080/",
          "height": 39
        },
        "id": "PFY64gGr8qFD",
        "outputId": "62c3bfc9-ea3b-48cb-febf-24a4b966ca99"
      },
      "execution_count": null,
      "outputs": [
        {
          "output_type": "execute_result",
          "data": {
            "text/latex": "$\\displaystyle p e^{r t}$",
            "text/plain": [
              "p*exp(r*t)"
            ]
          },
          "metadata": {},
          "execution_count": 88
        }
      ]
    },
    {
      "cell_type": "markdown",
      "source": [
        "Thực hành 13:\n"
      ],
      "metadata": {
        "id": "l0elRKEM-nzE"
      }
    },
    {
      "cell_type": "code",
      "source": [
        "from sympy import Symbol, Limit\n",
        "t = Symbol('t')\n",
        "St = 5*t**2 + 2*t +8\n",
        "t1 = Symbol('t1')\n",
        "delta_t = Symbol('delta_t')\n",
        "St1 = St.subs({t: t1})\n",
        "St1_delta = St.subs({t: t1 + delta_t})\n",
        "Limit((St1_delta-St1)/delta_t, delta_t,0).doit()\n"
      ],
      "metadata": {
        "colab": {
          "base_uri": "https://localhost:8080/",
          "height": 39
        },
        "id": "F0_L-LrB-pJj",
        "outputId": "ce88c285-0b2e-4c30-d237-c2a4c5dfe37a"
      },
      "execution_count": null,
      "outputs": [
        {
          "output_type": "execute_result",
          "data": {
            "text/latex": "$\\displaystyle 10 t_{1} + 2$",
            "text/plain": [
              "10*t1 + 2"
            ]
          },
          "metadata": {},
          "execution_count": 94
        }
      ]
    },
    {
      "cell_type": "code",
      "source": [
        ""
      ],
      "metadata": {
        "id": "Ccws8PFP_WUT"
      },
      "execution_count": null,
      "outputs": []
    }
  ]
}