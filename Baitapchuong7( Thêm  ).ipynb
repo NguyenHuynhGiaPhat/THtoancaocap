{
  "nbformat": 4,
  "nbformat_minor": 0,
  "metadata": {
    "colab": {
      "name": "Baitapchuong7.ipynb",
      "provenance": [],
      "collapsed_sections": [],
      "authorship_tag": "ABX9TyPmYSI1AkTQmtowNYrEja+M",
      "include_colab_link": true
    },
    "kernelspec": {
      "name": "python3",
      "display_name": "Python 3"
    },
    "language_info": {
      "name": "python"
    }
  },
  "cells": [
    {
      "cell_type": "markdown",
      "metadata": {
        "id": "view-in-github",
        "colab_type": "text"
      },
      "source": [
        "<a href=\"https://colab.research.google.com/github/NguyenHuynhGiaPhat/THtoancaocap/blob/main/Baitapchuong7(%20Th%C3%AAm%20%20).ipynb\" target=\"_parent\"><img src=\"https://colab.research.google.com/assets/colab-badge.svg\" alt=\"Open In Colab\"/></a>"
      ]
    },
    {
      "cell_type": "markdown",
      "source": [
        "TH 1\n"
      ],
      "metadata": {
        "id": "Dgp6uwACLOSk"
      }
    },
    {
      "cell_type": "code",
      "source": [
        "from sympy import Symbol, Integral\n",
        "x = Symbol('x')\n",
        "f = 1.0/x \n",
        "unbound1 = Integral(f,(x,0,2))\n",
        "unbound1\n",
        "\n"
      ],
      "metadata": {
        "colab": {
          "base_uri": "https://localhost:8080/",
          "height": 79
        },
        "id": "Zv9Wfp5ILQGT",
        "outputId": "7d4c22e4-36f0-4c02-c7f3-7c885eea2558"
      },
      "execution_count": null,
      "outputs": [
        {
          "output_type": "execute_result",
          "data": {
            "text/plain": [
              "Integral(1.0/x, (x, 0, 2))"
            ],
            "text/latex": "$\\displaystyle \\int\\limits_{0}^{2} \\frac{1.0}{x}\\, dx$"
          },
          "metadata": {},
          "execution_count": 8
        }
      ]
    },
    {
      "cell_type": "code",
      "source": [
        "unbound1"
      ],
      "metadata": {
        "colab": {
          "base_uri": "https://localhost:8080/",
          "height": 79
        },
        "id": "JFvTHQaOM0bb",
        "outputId": "b8f4af28-ddbf-45d9-f220-74b61ea39b27"
      },
      "execution_count": null,
      "outputs": [
        {
          "output_type": "execute_result",
          "data": {
            "text/plain": [
              "Integral(1.0/x, (x, 0, 2))"
            ],
            "text/latex": "$\\displaystyle \\int\\limits_{0}^{2} \\frac{1.0}{x}\\, dx$"
          },
          "metadata": {},
          "execution_count": 9
        }
      ]
    },
    {
      "cell_type": "code",
      "source": [
        "unbound1.doit()\n"
      ],
      "metadata": {
        "colab": {
          "base_uri": "https://localhost:8080/",
          "height": 38
        },
        "id": "eqoKRjWPM2j7",
        "outputId": "ae33a246-79d7-40fa-83d0-063edd3cc0ae"
      },
      "execution_count": null,
      "outputs": [
        {
          "output_type": "execute_result",
          "data": {
            "text/plain": [
              "oo"
            ],
            "text/latex": "$\\displaystyle \\infty$"
          },
          "metadata": {},
          "execution_count": 10
        }
      ]
    },
    {
      "cell_type": "markdown",
      "source": [
        "TH 2 \n"
      ],
      "metadata": {
        "id": "-8VdeBXvNE-0"
      }
    },
    {
      "cell_type": "code",
      "source": [
        "from sympy import Symbol, Integral \n",
        "x = Symbol('x')\n",
        "f = 1.0/x**2\n",
        "unbound2 = Integral(f,(x,-1,1))\n",
        "unbound2 "
      ],
      "metadata": {
        "colab": {
          "base_uri": "https://localhost:8080/",
          "height": 81
        },
        "id": "KlkfpzRFNStE",
        "outputId": "e3e65bf9-7f3b-409b-ea23-a78fb6f9e17d"
      },
      "execution_count": null,
      "outputs": [
        {
          "output_type": "execute_result",
          "data": {
            "text/plain": [
              "Integral(1.0/x**2, (x, -1, 1))"
            ],
            "text/latex": "$\\displaystyle \\int\\limits_{-1}^{1} \\frac{1.0}{x^{2}}\\, dx$"
          },
          "metadata": {},
          "execution_count": 11
        }
      ]
    },
    {
      "cell_type": "code",
      "source": [
        "unbound2.doit()"
      ],
      "metadata": {
        "colab": {
          "base_uri": "https://localhost:8080/",
          "height": 38
        },
        "id": "2JpNVxvLNzxE",
        "outputId": "18ac8284-7056-4457-f50d-fdd8ad5ca26f"
      },
      "execution_count": null,
      "outputs": [
        {
          "output_type": "execute_result",
          "data": {
            "text/plain": [
              "oo"
            ],
            "text/latex": "$\\displaystyle \\infty$"
          },
          "metadata": {},
          "execution_count": 12
        }
      ]
    },
    {
      "cell_type": "markdown",
      "source": [
        "TH 3 \n"
      ],
      "metadata": {
        "id": "vhOOKVaQN4vs"
      }
    },
    {
      "cell_type": "code",
      "source": [
        "from sympy import Symbol, Integral, Abs\n",
        "x = Symbol('x')\n",
        "f = Abs(x)\n",
        "discontinous1 = Integral(f,(x,-1,2))\n",
        "discontinous1"
      ],
      "metadata": {
        "colab": {
          "base_uri": "https://localhost:8080/",
          "height": 81
        },
        "id": "dxLwE4ZuN5z0",
        "outputId": "84f5ac38-1775-4ef1-ceaf-c126b5eb7971"
      },
      "execution_count": null,
      "outputs": [
        {
          "output_type": "execute_result",
          "data": {
            "text/plain": [
              "Integral(Abs(x), (x, -1, 2))"
            ],
            "text/latex": "$\\displaystyle \\int\\limits_{-1}^{2} \\left|{x}\\right|\\, dx$"
          },
          "metadata": {},
          "execution_count": 13
        }
      ]
    },
    {
      "cell_type": "code",
      "source": [
        "discontinous1.doit()"
      ],
      "metadata": {
        "colab": {
          "base_uri": "https://localhost:8080/",
          "height": 51
        },
        "id": "wUHPnY2hOmlE",
        "outputId": "c5f438bd-e1e4-4a58-9823-143a4fff6e23"
      },
      "execution_count": null,
      "outputs": [
        {
          "output_type": "execute_result",
          "data": {
            "text/plain": [
              "5/2"
            ],
            "text/latex": "$\\displaystyle \\frac{5}{2}$"
          },
          "metadata": {},
          "execution_count": 15
        }
      ]
    },
    {
      "cell_type": "markdown",
      "source": [
        "TH 4\n"
      ],
      "metadata": {
        "id": "E6DaMEDGPATV"
      }
    },
    {
      "cell_type": "code",
      "source": [
        "from sympy import Symbol, Integral\n",
        "x = Symbol('x')\n",
        "f = x**(0.5)\n",
        "undef1 = Integral(f,(x,-1,1))\n",
        "undef1.doit()"
      ],
      "metadata": {
        "colab": {
          "base_uri": "https://localhost:8080/",
          "height": 39
        },
        "id": "PrO-cYlDPBLk",
        "outputId": "a1335d32-a367-417b-96f5-75a4d5bdf605"
      },
      "execution_count": null,
      "outputs": [
        {
          "output_type": "execute_result",
          "data": {
            "text/plain": [
              "0.666666666666667 + 0.666666666666667*I"
            ],
            "text/latex": "$\\displaystyle 0.666666666666667 + 0.666666666666667 i$"
          },
          "metadata": {},
          "execution_count": 16
        }
      ]
    },
    {
      "cell_type": "markdown",
      "source": [
        "TH 5\n"
      ],
      "metadata": {
        "id": "izl6ECmVUKGM"
      }
    },
    {
      "cell_type": "code",
      "source": [
        "from scipy import integrate \n",
        "import numpy as np \n",
        "y = np.array([0.0,4.1,8.9,8.5,6.7,4.3,2.5,1.2,0.2])\n",
        "x = np.arange(0,9)\n",
        "S = 2*integrate.simps(y,x)\n",
        "A = 5.5\n",
        "F = A/S*60\n",
        "integrate.simps(y,x)"
      ],
      "metadata": {
        "colab": {
          "base_uri": "https://localhost:8080/"
        },
        "id": "JpABnVcWUK_s",
        "outputId": "d4373980-8978-4a4e-e20a-bd9e9c42af86"
      },
      "execution_count": null,
      "outputs": [
        {
          "output_type": "execute_result",
          "data": {
            "text/plain": [
              "36.26666666666666"
            ]
          },
          "metadata": {},
          "execution_count": 26
        }
      ]
    },
    {
      "cell_type": "markdown",
      "source": [
        "TH 6 \n"
      ],
      "metadata": {
        "id": "qn8f7_B4WjuD"
      }
    },
    {
      "cell_type": "code",
      "source": [
        "from sympy import Symbol, Integral, Derivative, pprint, sqrt\n",
        "x = Symbol('x')\n",
        "f = x**(77/3)\n",
        "d = Derivative(f).doit()\n",
        "d\n"
      ],
      "metadata": {
        "id": "uj9jKYdSWkwE",
        "colab": {
          "base_uri": "https://localhost:8080/",
          "height": 39
        },
        "outputId": "0169aad7-6a49-4744-e376-2d8a753a2ac3"
      },
      "execution_count": null,
      "outputs": [
        {
          "output_type": "execute_result",
          "data": {
            "text/plain": [
              "25.6666666666667*x**24.6666666666667"
            ],
            "text/latex": "$\\displaystyle 25.6666666666667 x^{24.6666666666667}$"
          },
          "metadata": {},
          "execution_count": 4
        }
      ]
    },
    {
      "cell_type": "code",
      "source": [
        "c = sqrt(1+ d*d)\n",
        "c"
      ],
      "metadata": {
        "colab": {
          "base_uri": "https://localhost:8080/",
          "height": 40
        },
        "id": "_b_g1fN4RWUn",
        "outputId": "26a9de5f-d6bf-4cb3-f34e-c420ede017c0"
      },
      "execution_count": null,
      "outputs": [
        {
          "output_type": "execute_result",
          "data": {
            "text/plain": [
              "25.6666666666667*sqrt(x**49.3333333333333 + 0.0015179625569236)"
            ],
            "text/latex": "$\\displaystyle 25.6666666666667 \\sqrt{x^{49.3333333333333} + 0.0015179625569236}$"
          },
          "metadata": {},
          "execution_count": 8
        }
      ]
    },
    {
      "cell_type": "code",
      "source": [
        "chieudai = Integral(c,(x,0,2))\n",
        "chieudai"
      ],
      "metadata": {
        "colab": {
          "base_uri": "https://localhost:8080/",
          "height": 79
        },
        "id": "MR9TI-u3RmFH",
        "outputId": "05f8f184-675b-44f1-f878-b9ad0d51dbd4"
      },
      "execution_count": null,
      "outputs": [
        {
          "output_type": "execute_result",
          "data": {
            "text/plain": [
              "Integral(25.6666666666667*sqrt(x**49.3333333333333 + 0.0015179625569236), (x, 0, 2))"
            ],
            "text/latex": "$\\displaystyle \\int\\limits_{0}^{2} 25.6666666666667 \\sqrt{x^{49.3333333333333} + 0.0015179625569236}\\, dx$"
          },
          "metadata": {},
          "execution_count": 10
        }
      ]
    },
    {
      "cell_type": "code",
      "source": [
        "chieudai.doit()"
      ],
      "metadata": {
        "colab": {
          "base_uri": "https://localhost:8080/",
          "height": 80
        },
        "id": "V6putI3TR5tp",
        "outputId": "76775cc9-b8e8-4a22-94e9-f0ea4dc77fb0"
      },
      "execution_count": null,
      "outputs": [
        {
          "output_type": "execute_result",
          "data": {
            "text/plain": [
              "3.54490770181105*hyper((-0.5, 0.0202702702702702), (1.02027027027027,), 4.67252958986228e+17*exp_polar(I*pi))/sqrt(pi)"
            ],
            "text/latex": "$\\displaystyle \\frac{3.54490770181105 {{}_{2}F_{1}\\left(\\begin{matrix} -0.5, 0.0202702702702702 \\\\ 1.02027027027027 \\end{matrix}\\middle| {4.67252958986228 \\cdot 10^{17} e^{i \\pi}} \\right)}}{\\sqrt{\\pi}}$"
          },
          "metadata": {},
          "execution_count": 11
        }
      ]
    },
    {
      "cell_type": "markdown",
      "source": [
        "TH 7 \n"
      ],
      "metadata": {
        "id": "0KKs2kowXsHD"
      }
    },
    {
      "cell_type": "code",
      "source": [
        ""
      ],
      "metadata": {
        "id": "A7vX6PblXtDF"
      },
      "execution_count": null,
      "outputs": []
    },
    {
      "cell_type": "markdown",
      "source": [
        "TH 8 \n"
      ],
      "metadata": {
        "id": "YnMUTnk_R832"
      }
    },
    {
      "cell_type": "code",
      "source": [
        "from sympy import difference_delta as dd\n",
        "from sympy.abc import n\n",
        "dd(n*(n+1),n)"
      ],
      "metadata": {
        "colab": {
          "base_uri": "https://localhost:8080/",
          "height": 39
        },
        "id": "sllx55hgR-Pf",
        "outputId": "5dc172d4-1aed-49ac-aec3-f568175c494a"
      },
      "execution_count": null,
      "outputs": [
        {
          "output_type": "execute_result",
          "data": {
            "text/plain": [
              "2*n + 2"
            ],
            "text/latex": "$\\displaystyle 2 n + 2$"
          },
          "metadata": {},
          "execution_count": 12
        }
      ]
    },
    {
      "cell_type": "code",
      "source": [
        "dd(n*(n+1),n,2)"
      ],
      "metadata": {
        "colab": {
          "base_uri": "https://localhost:8080/",
          "height": 39
        },
        "id": "zW9oSmYjSmf_",
        "outputId": "93880bfe-2d92-47ff-fa57-5e5d5e82a167"
      },
      "execution_count": null,
      "outputs": [
        {
          "output_type": "execute_result",
          "data": {
            "text/plain": [
              "4*n + 6"
            ],
            "text/latex": "$\\displaystyle 4 n + 6$"
          },
          "metadata": {},
          "execution_count": 13
        }
      ]
    },
    {
      "cell_type": "code",
      "source": [
        "from sympy.abc import n, k\n",
        "from sympy import limit_seq\n",
        "limit_seq((3*n**3+5*n**2+4)/(5*n**3+200*n**2+400), n)"
      ],
      "metadata": {
        "colab": {
          "base_uri": "https://localhost:8080/",
          "height": 51
        },
        "id": "_T2mM0sASpCH",
        "outputId": "f52b562a-d086-4a60-8eb0-5e709559c749"
      },
      "execution_count": null,
      "outputs": [
        {
          "output_type": "execute_result",
          "data": {
            "text/plain": [
              "3/5"
            ],
            "text/latex": "$\\displaystyle \\frac{3}{5}$"
          },
          "metadata": {},
          "execution_count": 16
        }
      ]
    },
    {
      "cell_type": "code",
      "source": [
        "limit_seq((3*n**3+5*n**2+4)/(5*n**3+200*n**2+400), n)"
      ],
      "metadata": {
        "colab": {
          "base_uri": "https://localhost:8080/",
          "height": 51
        },
        "id": "nJEO0AzNSvq3",
        "outputId": "4e80b2ab-fea7-4876-f77f-7527627dc444"
      },
      "execution_count": null,
      "outputs": [
        {
          "output_type": "execute_result",
          "data": {
            "text/plain": [
              "3/5"
            ],
            "text/latex": "$\\displaystyle \\frac{3}{5}$"
          },
          "metadata": {},
          "execution_count": 17
        }
      ]
    },
    {
      "cell_type": "code",
      "source": [
        "from sympy import series\n",
        "from sympy import Sum\n",
        "from sympy.series.limitseq import dominant"
      ],
      "metadata": {
        "id": "sqeS9AESS1Q4"
      },
      "execution_count": null,
      "outputs": []
    },
    {
      "cell_type": "code",
      "source": [
        "from sympy.abc import n, k, m\n",
        "limit_seq(Sum(k**2 * Sum(2**m/m,(m,1,k)),(k,1,n))/(2**n*n), n)"
      ],
      "metadata": {
        "colab": {
          "base_uri": "https://localhost:8080/",
          "height": 38
        },
        "id": "MBreTIFPS4AH",
        "outputId": "a103c109-0077-49b0-ee3f-e241ccf0f674"
      },
      "execution_count": null,
      "outputs": [
        {
          "output_type": "execute_result",
          "data": {
            "text/plain": [
              "4"
            ],
            "text/latex": "$\\displaystyle 4$"
          },
          "metadata": {},
          "execution_count": 19
        }
      ]
    },
    {
      "cell_type": "code",
      "source": [
        "dominant(n**3+100*n**2+200*n+1, n)"
      ],
      "metadata": {
        "colab": {
          "base_uri": "https://localhost:8080/",
          "height": 39
        },
        "id": "gwt4btNbS5if",
        "outputId": "d712354f-c613-4350-f3f5-9c9788279650"
      },
      "execution_count": null,
      "outputs": [
        {
          "output_type": "execute_result",
          "data": {
            "text/plain": [
              "n**3"
            ],
            "text/latex": "$\\displaystyle n^{3}$"
          },
          "metadata": {},
          "execution_count": 20
        }
      ]
    },
    {
      "cell_type": "code",
      "source": [
        "dominant(2**n + Sum(k, (k,0,n)), n)"
      ],
      "metadata": {
        "colab": {
          "base_uri": "https://localhost:8080/",
          "height": 38
        },
        "id": "LV1JMwvbS7t_",
        "outputId": "39e14bb0-2605-43c1-d1ea-8911c40ac298"
      },
      "execution_count": null,
      "outputs": [
        {
          "output_type": "execute_result",
          "data": {
            "text/plain": [
              "2**n"
            ],
            "text/latex": "$\\displaystyle 2^{n}$"
          },
          "metadata": {},
          "execution_count": 21
        }
      ]
    },
    {
      "cell_type": "code",
      "source": [
        " dominant(n**2 + Sum(k, (k,0,n)), n)"
      ],
      "metadata": {
        "id": "91R8c-laS-UX"
      },
      "execution_count": null,
      "outputs": []
    },
    {
      "cell_type": "code",
      "source": [
        " dominant(2*n**2 + Sum(k, (k,0,n)), n) "
      ],
      "metadata": {
        "id": "KLj-nCcqTEdA"
      },
      "execution_count": null,
      "outputs": []
    },
    {
      "cell_type": "code",
      "source": [
        " dominant(n**3 + Sum(k, (k,0,n)), n) "
      ],
      "metadata": {
        "colab": {
          "base_uri": "https://localhost:8080/",
          "height": 39
        },
        "id": "8QiOPFVPTHqv",
        "outputId": "0e93d0b1-3aca-4c74-d410-b221436fc31c"
      },
      "execution_count": null,
      "outputs": [
        {
          "output_type": "execute_result",
          "data": {
            "text/plain": [
              "n**3"
            ],
            "text/latex": "$\\displaystyle n^{3}$"
          },
          "metadata": {},
          "execution_count": 24
        }
      ]
    },
    {
      "cell_type": "code",
      "source": [
        " dominant(n*3 + Sum(k, (k,0,n)), n)"
      ],
      "metadata": {
        "colab": {
          "base_uri": "https://localhost:8080/",
          "height": 67
        },
        "id": "WLRAL7H5TM2P",
        "outputId": "3d1621eb-829c-4aa4-848b-1ef37a59baa7"
      },
      "execution_count": null,
      "outputs": [
        {
          "output_type": "execute_result",
          "data": {
            "text/plain": [
              "Sum(k, (k, 0, n))"
            ],
            "text/latex": "$\\displaystyle \\sum_{k=0}^{n} k$"
          },
          "metadata": {},
          "execution_count": 28
        }
      ]
    },
    {
      "cell_type": "code",
      "source": [
        " dominant(2*n*3 + Sum(k, (k,0,n)), n) "
      ],
      "metadata": {
        "colab": {
          "base_uri": "https://localhost:8080/",
          "height": 67
        },
        "id": "VAPnVDdJTPnQ",
        "outputId": "281ba519-bfe6-4cd1-f075-08aa4b1e8468"
      },
      "execution_count": null,
      "outputs": [
        {
          "output_type": "execute_result",
          "data": {
            "text/plain": [
              "Sum(k, (k, 0, n))"
            ],
            "text/latex": "$\\displaystyle \\sum_{k=0}^{n} k$"
          },
          "metadata": {},
          "execution_count": 29
        }
      ]
    },
    {
      "cell_type": "code",
      "source": [
        "dominant(2*n**3 + Sum(k, (k,0,n)), n) "
      ],
      "metadata": {
        "colab": {
          "base_uri": "https://localhost:8080/",
          "height": 39
        },
        "id": "IPHz6uzDTSJP",
        "outputId": "4ba2ac58-090d-4f2e-bded-686477c93d05"
      },
      "execution_count": null,
      "outputs": [
        {
          "output_type": "execute_result",
          "data": {
            "text/plain": [
              "2*n**3"
            ],
            "text/latex": "$\\displaystyle 2 n^{3}$"
          },
          "metadata": {},
          "execution_count": 30
        }
      ]
    },
    {
      "cell_type": "markdown",
      "source": [
        "TH 99"
      ],
      "metadata": {
        "id": "d83CNsh2Tr_-"
      }
    },
    {
      "cell_type": "code",
      "source": [
        "from sympy import Sum\n",
        "from sympy.abc import n, k\n",
        "S = Sum(k, (k,0,n))\n",
        "S"
      ],
      "metadata": {
        "colab": {
          "base_uri": "https://localhost:8080/",
          "height": 67
        },
        "id": "gkdrLAEaTtKu",
        "outputId": "f073343e-15cb-4466-9bf1-7acde272c6f0"
      },
      "execution_count": null,
      "outputs": [
        {
          "output_type": "execute_result",
          "data": {
            "text/plain": [
              "Sum(k, (k, 0, n))"
            ],
            "text/latex": "$\\displaystyle \\sum_{k=0}^{n} k$"
          },
          "metadata": {},
          "execution_count": 31
        }
      ]
    },
    {
      "cell_type": "markdown",
      "source": [
        "* Giới hạn chuỗi số "
      ],
      "metadata": {
        "id": "E-_mzFXxVOR4"
      }
    },
    {
      "cell_type": "code",
      "source": [
        "from sympy import limit_seq\n",
        "limit_seq(S, n)"
      ],
      "metadata": {
        "colab": {
          "base_uri": "https://localhost:8080/",
          "height": 38
        },
        "id": "zwROyTRWVKKg",
        "outputId": "7e7e6c07-5a25-47be-b184-cb42ac0ab49f"
      },
      "execution_count": null,
      "outputs": [
        {
          "output_type": "execute_result",
          "data": {
            "text/plain": [
              "oo"
            ],
            "text/latex": "$\\displaystyle \\infty$"
          },
          "metadata": {},
          "execution_count": 32
        }
      ]
    },
    {
      "cell_type": "markdown",
      "source": [
        "* Chuỗi hóa một hàm số "
      ],
      "metadata": {
        "id": "KwUfs5DCVVK_"
      }
    },
    {
      "cell_type": "code",
      "source": [
        "from sympy import Symbol, cos, series\n",
        "x = Symbol('x')\n",
        "S1 = series(cos(x), x)\n",
        "S1"
      ],
      "metadata": {
        "colab": {
          "base_uri": "https://localhost:8080/",
          "height": 54
        },
        "id": "ultjs0udVThH",
        "outputId": "99b916e7-379d-4daa-ee58-7da514210f7b"
      },
      "execution_count": null,
      "outputs": [
        {
          "output_type": "execute_result",
          "data": {
            "text/plain": [
              "1 - x**2/2 + x**4/24 + O(x**6)"
            ],
            "text/latex": "$\\displaystyle 1 - \\frac{x^{2}}{2} + \\frac{x^{4}}{24} + O\\left(x^{6}\\right)$"
          },
          "metadata": {},
          "execution_count": 33
        }
      ]
    },
    {
      "cell_type": "markdown",
      "source": [
        "* Tính toán chuỗi\n"
      ],
      "metadata": {
        "id": "PbLDi32SVhUv"
      }
    },
    {
      "cell_type": "code",
      "source": [
        "from sympy.abc import n\n",
        "e = (1+1/n)**n\n",
        "print (round(e.subs(n, 100).evalf(),10))"
      ],
      "metadata": {
        "colab": {
          "base_uri": "https://localhost:8080/"
        },
        "id": "YTLRDj8-VeA2",
        "outputId": "13eb8d2b-cebc-4171-e61e-3f081f1ef911"
      },
      "execution_count": null,
      "outputs": [
        {
          "output_type": "stream",
          "name": "stdout",
          "text": [
            "2.7048138294\n"
          ]
        }
      ]
    }
  ]
}