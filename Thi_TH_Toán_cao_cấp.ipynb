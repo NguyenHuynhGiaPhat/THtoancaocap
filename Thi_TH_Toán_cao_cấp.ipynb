{
  "nbformat": 4,
  "nbformat_minor": 0,
  "metadata": {
    "colab": {
      "name": "Thi TH Toán cao cấp.ipynb",
      "provenance": [],
      "authorship_tag": "ABX9TyNRFokKHrUy28QDx6nQ58Lz",
      "include_colab_link": true
    },
    "kernelspec": {
      "name": "python3",
      "display_name": "Python 3"
    },
    "language_info": {
      "name": "python"
    }
  },
  "cells": [
    {
      "cell_type": "markdown",
      "metadata": {
        "id": "view-in-github",
        "colab_type": "text"
      },
      "source": [
        "<a href=\"https://colab.research.google.com/github/NguyenHuynhGiaPhat/THtoancaocap/blob/main/Thi_TH_To%C3%A1n_cao_c%E1%BA%A5p.ipynb\" target=\"_parent\"><img src=\"https://colab.research.google.com/assets/colab-badge.svg\" alt=\"Open In Colab\"/></a>"
      ]
    },
    {
      "cell_type": "markdown",
      "source": [
        "I)\n"
      ],
      "metadata": {
        "id": "AlO5zSxFY_lR"
      }
    },
    {
      "cell_type": "markdown",
      "source": [
        "c1"
      ],
      "metadata": {
        "id": "135Lk2kZZIAV"
      }
    },
    {
      "cell_type": "code",
      "execution_count": 18,
      "metadata": {
        "colab": {
          "base_uri": "https://localhost:8080/",
          "height": 39
        },
        "id": "gjmbBgZxY3xx",
        "outputId": "a17ac705-090d-4d9e-ca07-e222371ef803"
      },
      "outputs": [
        {
          "output_type": "execute_result",
          "data": {
            "text/plain": [
              "x**2 + x + log(x)"
            ],
            "text/latex": "$\\displaystyle x^{2} + x + \\log{\\left(x \\right)}$"
          },
          "metadata": {},
          "execution_count": 18
        }
      ],
      "source": [
        "from sympy import Integral, Symbol\n",
        "x = Symbol('x')\n",
        "Integral(2*x+1/x*(x+1), x).doit()"
      ]
    },
    {
      "cell_type": "markdown",
      "source": [
        "c2) "
      ],
      "metadata": {
        "id": "srZhAef6aK2X"
      }
    },
    {
      "cell_type": "markdown",
      "source": [
        "c3)"
      ],
      "metadata": {
        "id": "CzFAYA__aW-_"
      }
    },
    {
      "cell_type": "markdown",
      "source": [
        "1) "
      ],
      "metadata": {
        "id": "UhzN8dJ4aejI"
      }
    },
    {
      "cell_type": "code",
      "source": [
        "from sympy import Limit,Symbol, S\n",
        "x = Symbol('x')\n",
        "Limit(1+x+x**2+x**3/1+x,x,S.Infinity)\n",
        "gioihan = Limit(1+x+x**2+x**3/1+x,x,S.Infinity)\n",
        "gioihan.doit()"
      ],
      "metadata": {
        "colab": {
          "base_uri": "https://localhost:8080/",
          "height": 38
        },
        "id": "3o1xz81fajAQ",
        "outputId": "df05e427-1fd8-4d75-aa11-b70f5a4b6ae5"
      },
      "execution_count": 2,
      "outputs": [
        {
          "output_type": "execute_result",
          "data": {
            "text/plain": [
              "oo"
            ],
            "text/latex": "$\\displaystyle \\infty$"
          },
          "metadata": {},
          "execution_count": 2
        }
      ]
    },
    {
      "cell_type": "code",
      "source": [
        "from sympy import Symbol,sin  S\n",
        "x = Symbol('x')\n",
        "Limit(sin*x/2*x, x,S.Infinity)\n",
        "gioihan = Limit(1+x+x**2+x**3/1+x,x,S.Infinity)\n",
        "gioihan.doit()\n"
      ],
      "metadata": {
        "colab": {
          "base_uri": "https://localhost:8080/",
          "height": 130
        },
        "id": "Ydh_iu7lbp6m",
        "outputId": "e2ad6876-7ac4-4d52-fa22-ac5140d2382b"
      },
      "execution_count": 17,
      "outputs": [
        {
          "output_type": "error",
          "ename": "SyntaxError",
          "evalue": "ignored",
          "traceback": [
            "\u001b[0;36m  File \u001b[0;32m\"<ipython-input-17-a74b8d39af2a>\"\u001b[0;36m, line \u001b[0;32m1\u001b[0m\n\u001b[0;31m    from sympy import Symbol,sin  S\u001b[0m\n\u001b[0m                                  ^\u001b[0m\n\u001b[0;31mSyntaxError\u001b[0m\u001b[0;31m:\u001b[0m invalid syntax\n"
          ]
        }
      ]
    }
  ]
}