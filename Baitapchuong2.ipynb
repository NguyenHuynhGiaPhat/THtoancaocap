{
  "nbformat": 4,
  "nbformat_minor": 0,
  "metadata": {
    "colab": {
      "name": "Baitapchuong2.ipynb",
      "provenance": [],
      "collapsed_sections": [],
      "authorship_tag": "ABX9TyNyfPJC17UG8Ju5YViP4scP",
      "include_colab_link": true
    },
    "kernelspec": {
      "name": "python3",
      "display_name": "Python 3"
    },
    "language_info": {
      "name": "python"
    }
  },
  "cells": [
    {
      "cell_type": "markdown",
      "metadata": {
        "id": "view-in-github",
        "colab_type": "text"
      },
      "source": [
        "<a href=\"https://colab.research.google.com/github/NguyenHuynhGiaPhat/THtoancaocap/blob/main/Baitapchuong2.ipynb\" target=\"_parent\"><img src=\"https://colab.research.google.com/assets/colab-badge.svg\" alt=\"Open In Colab\"/></a>"
      ]
    },
    {
      "cell_type": "markdown",
      "source": [
        "TH 1 \n"
      ],
      "metadata": {
        "id": "Wbz-Wirl67MP"
      }
    },
    {
      "cell_type": "code",
      "execution_count": null,
      "metadata": {
        "colab": {
          "base_uri": "https://localhost:8080/"
        },
        "id": "iN0mTrgR6Ji2",
        "outputId": "df5bbd4c-49ef-4114-b734-09276521002d"
      },
      "outputs": [
        {
          "output_type": "execute_result",
          "data": {
            "text/plain": [
              "23"
            ]
          },
          "metadata": {},
          "execution_count": 2
        }
      ],
      "source": [
        "chuoitinhtoan = \"a*b+c\"\n",
        "a = 5 \n",
        "b = 3 \n",
        "c = 8\n",
        "eval(chuoitinhtoan)"
      ]
    },
    {
      "cell_type": "markdown",
      "source": [
        "TH 2 "
      ],
      "metadata": {
        "id": "hH9UKbM77HTG"
      }
    },
    {
      "cell_type": "code",
      "source": [
        "from sympy import Symbol\n",
        "x = Symbol ('x')\n",
        "y = Symbol ('y')\n",
        "bieuthuc = x + y \n",
        "theso = bieuthuc.subs({x:88,y:10})\n",
        "theso"
      ],
      "metadata": {
        "id": "qoZmXUd97DTP",
        "colab": {
          "base_uri": "https://localhost:8080/",
          "height": 38
        },
        "outputId": "6304392e-262f-46e7-8655-b75ed80f40c2"
      },
      "execution_count": 31,
      "outputs": [
        {
          "output_type": "execute_result",
          "data": {
            "text/latex": "$\\displaystyle 98$",
            "text/plain": [
              "98"
            ]
          },
          "metadata": {},
          "execution_count": 31
        }
      ]
    },
    {
      "cell_type": "code",
      "source": [
        "u = Symbol('u')\n",
        "v = Symbol('v')\n",
        "bieuthuc_theo_uv = bieuthuc.subs({x:u,y:v})\n",
        "bieuthuc_theo_uv\n",
        "# UwU"
      ],
      "metadata": {
        "colab": {
          "base_uri": "https://localhost:8080/",
          "height": 39
        },
        "id": "Wfb345ZX-ato",
        "outputId": "f6a22e6d-8dd1-4542-8eb0-7712d393fccd"
      },
      "execution_count": null,
      "outputs": [
        {
          "output_type": "execute_result",
          "data": {
            "text/latex": "$\\displaystyle u + v$",
            "text/plain": [
              "u + v"
            ]
          },
          "metadata": {},
          "execution_count": 17
        }
      ]
    },
    {
      "cell_type": "code",
      "source": [
        "\n",
        "thaythe_tinhtoan = bieuthuc.subs({x:2*u*v,y:u**2+v**2})\n",
        "thaythe_tinhtoan \n",
        "u**2 + 2*u*v+ v**2\n",
        "thaythe_tinhtoan.factor()\n"
      ],
      "metadata": {
        "colab": {
          "base_uri": "https://localhost:8080/",
          "height": 40
        },
        "id": "wmPe2EWo_Gr4",
        "outputId": "05290f85-6915-4a71-df53-9578408f6c5f"
      },
      "execution_count": null,
      "outputs": [
        {
          "output_type": "execute_result",
          "data": {
            "text/latex": "$\\displaystyle \\left(u + v\\right)^{2}$",
            "text/plain": [
              "(u + v)**2"
            ]
          },
          "metadata": {},
          "execution_count": 21
        }
      ]
    },
    {
      "cell_type": "code",
      "source": [
        "from sympy import Symbol \n",
        "x = Symbol ('x')\n",
        "y = Symbol ('y')\n",
        "bieuthuc= x + y\n",
        "bieuthuc1= x**2 + y**2 \n",
        "u = Symbol ('u')\n",
        "v = Symbol('v')\n",
        "a = Symbol ('a')\n",
        "from sympy import sin, cos\n",
        "bieuthuc_uv = bieuthuc1.subs({x:a*sin(u),y:a*cos(u)})\n",
        "bieuthuc_uv\n"
      ],
      "metadata": {
        "id": "3mCnyJuZDkhR",
        "colab": {
          "base_uri": "https://localhost:8080/",
          "height": 39
        },
        "outputId": "77d94c45-8d28-478e-bbe5-87d8d0a5430d"
      },
      "execution_count": 32,
      "outputs": [
        {
          "output_type": "execute_result",
          "data": {
            "text/latex": "$\\displaystyle a^{2} \\sin^{2}{\\left(u \\right)} + a^{2} \\cos^{2}{\\left(u \\right)}$",
            "text/plain": [
              "a**2*sin(u)**2 + a**2*cos(u)**2"
            ]
          },
          "metadata": {},
          "execution_count": 32
        }
      ]
    },
    {
      "cell_type": "code",
      "source": [
        "bieuthuc_uv.simplify()"
      ],
      "metadata": {
        "colab": {
          "base_uri": "https://localhost:8080/",
          "height": 39
        },
        "id": "imDXudnVlnFM",
        "outputId": "7bd6d129-4217-456d-a9fd-1aa98c029089"
      },
      "execution_count": 33,
      "outputs": [
        {
          "output_type": "execute_result",
          "data": {
            "text/latex": "$\\displaystyle a^{2}$",
            "text/plain": [
              "a**2"
            ]
          },
          "metadata": {},
          "execution_count": 33
        }
      ]
    },
    {
      "cell_type": "markdown",
      "source": [
        "TH 3 "
      ],
      "metadata": {
        "id": "bgBdzf1Rr0q9"
      }
    },
    {
      "cell_type": "code",
      "source": [
        "danhsach = [1,2,3,4,5]\n",
        "danhsach[1]"
      ],
      "metadata": {
        "colab": {
          "base_uri": "https://localhost:8080/"
        },
        "id": "CaEzU7N3rzPN",
        "outputId": "52d9b787-fe9f-4737-e23c-a40395621d09"
      },
      "execution_count": 37,
      "outputs": [
        {
          "output_type": "execute_result",
          "data": {
            "text/plain": [
              "2"
            ]
          },
          "metadata": {},
          "execution_count": 37
        }
      ]
    },
    {
      "cell_type": "code",
      "source": [
        "danhsach.append(1212 )\n",
        "danhsach"
      ],
      "metadata": {
        "colab": {
          "base_uri": "https://localhost:8080/"
        },
        "id": "97EwxiXcsFNG",
        "outputId": "c919ef72-175b-4acf-de32-53df68039a7f"
      },
      "execution_count": 38,
      "outputs": [
        {
          "output_type": "execute_result",
          "data": {
            "text/plain": [
              "[1, 2, 3, 4, 5, 1212]"
            ]
          },
          "metadata": {},
          "execution_count": 38
        }
      ]
    },
    {
      "cell_type": "code",
      "source": [
        "danhsach.insert(0,12121212)\n",
        "danhsach"
      ],
      "metadata": {
        "colab": {
          "base_uri": "https://localhost:8080/"
        },
        "id": "o5tbq6SHsSON",
        "outputId": "731a7388-7f94-45f0-c500-74f3d61fa966"
      },
      "execution_count": 39,
      "outputs": [
        {
          "output_type": "execute_result",
          "data": {
            "text/plain": [
              "[12121212, 1, 2, 3, 4, 5, 1212]"
            ]
          },
          "metadata": {},
          "execution_count": 39
        }
      ]
    },
    {
      "cell_type": "code",
      "source": [
        "danhsach.pop(0)\n",
        "danhsach"
      ],
      "metadata": {
        "colab": {
          "base_uri": "https://localhost:8080/"
        },
        "id": "LUIQdzxasXGv",
        "outputId": "e69c7137-4986-4248-9630-4354fb79fd63"
      },
      "execution_count": 40,
      "outputs": [
        {
          "output_type": "execute_result",
          "data": {
            "text/plain": [
              "[1, 2, 3, 4, 5, 1212]"
            ]
          },
          "metadata": {},
          "execution_count": 40
        }
      ]
    },
    {
      "cell_type": "markdown",
      "source": [
        "TH 4"
      ],
      "metadata": {
        "id": "DoafaPbZsa-m"
      }
    },
    {
      "cell_type": "code",
      "source": [
        "danhsach=[5,10,15,11,20]\n",
        "for ch in danhsach:\n",
        "  print(ch )"
      ],
      "metadata": {
        "colab": {
          "base_uri": "https://localhost:8080/"
        },
        "id": "29nqCj7isZ89",
        "outputId": "6f77bf3a-3965-4201-8509-3613f6c3633b"
      },
      "execution_count": 41,
      "outputs": [
        {
          "output_type": "stream",
          "name": "stdout",
          "text": [
            "5\n",
            "10\n",
            "15\n",
            "11\n",
            "20\n"
          ]
        }
      ]
    },
    {
      "cell_type": "code",
      "source": [
        "for chiso, giatri in enumerate ('danhsach'):\n",
        "  print(chiso,':', giatri )"
      ],
      "metadata": {
        "colab": {
          "base_uri": "https://localhost:8080/"
        },
        "id": "tG7TBv6NsiYl",
        "outputId": "d9a9dca1-b4fc-4bfb-a9b6-4f1a6d2fbbef"
      },
      "execution_count": 42,
      "outputs": [
        {
          "output_type": "stream",
          "name": "stdout",
          "text": [
            "0 : d\n",
            "1 : a\n",
            "2 : n\n",
            "3 : h\n",
            "4 : s\n",
            "5 : a\n",
            "6 : c\n",
            "7 : h\n"
          ]
        }
      ]
    },
    {
      "cell_type": "markdown",
      "source": [
        "TH 5"
      ],
      "metadata": {
        "id": "5kfmDwy3sm61"
      }
    },
    {
      "cell_type": "code",
      "source": [
        "giatri_x = [ 2,4,6,8,10]\n",
        "giatri_y = [1,3,5,7,9]\n",
        "from pylab import plot, show\n",
        "plot(giatri_x,giatri_y)\n",
        "show()"
      ],
      "metadata": {
        "colab": {
          "base_uri": "https://localhost:8080/",
          "height": 265
        },
        "id": "jPlAkjFuslv-",
        "outputId": "902e64f1-706a-4696-ba57-dde355d7ed46"
      },
      "execution_count": 44,
      "outputs": [
        {
          "output_type": "display_data",
          "data": {
            "image/png": "[encoded data removed]",
            "text/plain": [
              "<Figure size 432x288 with 1 Axes>"
            ]
          },
          "metadata": {
            "needs_background": "light"
          }
        }
      ]
    },
    {
      "cell_type": "markdown",
      "source": [
        "TH 66"
      ],
      "metadata": {
        "id": "mkzla7mKs7kV"
      }
    },
    {
      "cell_type": "code",
      "source": [
        "giatri_x = [2,4,6,8,1010]\n",
        "giatri_y = [1,3,5,7,9]\n",
        "from pylab import plot, show \n",
        "plot (giatri_x,giatri_y, marker='o')"
      ],
      "metadata": {
        "colab": {
          "base_uri": "https://localhost:8080/",
          "height": 282
        },
        "id": "_brhUSR7s6We",
        "outputId": "48f608d1-2a36-4d08-aa37-9acc8aa03651"
      },
      "execution_count": 45,
      "outputs": [
        {
          "output_type": "execute_result",
          "data": {
            "text/plain": [
              "[<matplotlib.lines.Line2D at 0x7f12d1ede650>]"
            ]
          },
          "metadata": {},
          "execution_count": 45
        },
        {
          "output_type": "display_data",
          "data": {
            "image/png": "[encoded data removed]",
            "text/plain": [
              "<Figure size 432x288 with 1 Axes>"
            ]
          },
          "metadata": {
            "needs_background": "light"
          }
        }
      ]
    },
    {
      "cell_type": "markdown",
      "source": [
        "TH 7 "
      ],
      "metadata": {
        "id": "tOkDntmstHf-"
      }
    },
    {
      "cell_type": "code",
      "source": [
        "luongmua = [13.8,4.1,10.5, 50.4, 218.4, 311.7, 293.7, 269.8, 327.1, 266.7, 116.5, 48.3]\n",
        "thang= range(1,13)\n",
        "from pylab import show, plot\n",
        "plot(thang, luongmua, marker='o') \n",
        "show()"
      ],
      "metadata": {
        "colab": {
          "base_uri": "https://localhost:8080/",
          "height": 265
        },
        "id": "bXrhZ6l_tIf2",
        "outputId": "873ba7c9-d354-4d91-c76a-43dec326ac69"
      },
      "execution_count": 46,
      "outputs": [
        {
          "output_type": "display_data",
          "data": {
            "image/png": "[encoded data removed]",
            "text/plain": [
              "<Figure size 432x288 with 1 Axes>"
            ]
          },
          "metadata": {
            "needs_background": "light"
          }
        }
      ]
    },
    {
      "cell_type": "markdown",
      "source": [
        "TH 88"
      ],
      "metadata": {
        "id": "nrDJmaPZtL-l"
      }
    },
    {
      "cell_type": "code",
      "source": [
        "from sympy import Symbol, Derivative\n",
        "t=Symbol('t')\n",
        "st=5*t**2+2*t+8\n",
        "Derivative(st,t)"
      ],
      "metadata": {
        "colab": {
          "base_uri": "https://localhost:8080/",
          "height": 52
        },
        "id": "2GjPJVyZtMwt",
        "outputId": "edc85c33-0bc2-42a6-f877-caded535040f"
      },
      "execution_count": 47,
      "outputs": [
        {
          "output_type": "execute_result",
          "data": {
            "text/latex": "$\\displaystyle \\frac{d}{d t} \\left(5 t^{2} + 2 t + 8\\right)$",
            "text/plain": [
              "Derivative(5*t**2 + 2*t + 8, t)"
            ]
          },
          "metadata": {},
          "execution_count": 47
        }
      ]
    },
    {
      "cell_type": "code",
      "source": [
        "d=Derivative(st,t)\n",
        "d.doit()"
      ],
      "metadata": {
        "colab": {
          "base_uri": "https://localhost:8080/",
          "height": 39
        },
        "id": "9xLIaOTrtPeF",
        "outputId": "6b579398-52c0-4da0-b6a1-ab5a55a6e899"
      },
      "execution_count": 48,
      "outputs": [
        {
          "output_type": "execute_result",
          "data": {
            "text/latex": "$\\displaystyle 10 t + 2$",
            "text/plain": [
              "10*t + 2"
            ]
          },
          "metadata": {},
          "execution_count": 48
        }
      ]
    },
    {
      "cell_type": "code",
      "source": [
        "d.doit().subs({t:1})"
      ],
      "metadata": {
        "colab": {
          "base_uri": "https://localhost:8080/",
          "height": 38
        },
        "id": "7Qogg34itQ4V",
        "outputId": "3a406d90-dd16-44c5-eb10-396a4e9b77c4"
      },
      "execution_count": 49,
      "outputs": [
        {
          "output_type": "execute_result",
          "data": {
            "text/latex": "$\\displaystyle 12$",
            "text/plain": [
              "12"
            ]
          },
          "metadata": {},
          "execution_count": 49
        }
      ]
    },
    {
      "cell_type": "code",
      "source": [
        "t1=Symbol('t1')\n",
        "d.doit().subs({t:t1})\n"
      ],
      "metadata": {
        "colab": {
          "base_uri": "https://localhost:8080/",
          "height": 39
        },
        "id": "eWmKmDXttTmm",
        "outputId": "c7c37d54-35fd-42a3-85e2-815310d7c9f5"
      },
      "execution_count": 50,
      "outputs": [
        {
          "output_type": "execute_result",
          "data": {
            "text/latex": "$\\displaystyle 10 t_{1} + 2$",
            "text/plain": [
              "10*t1 + 2"
            ]
          },
          "metadata": {},
          "execution_count": 50
        }
      ]
    },
    {
      "cell_type": "code",
      "source": [
        "t2=10\n",
        "d.doit().subs({t:t2})"
      ],
      "metadata": {
        "colab": {
          "base_uri": "https://localhost:8080/",
          "height": 38
        },
        "id": "qlSX-TGVtTgl",
        "outputId": "3b7b9a67-a900-49b3-e6f8-87fab8d20dd4"
      },
      "execution_count": 51,
      "outputs": [
        {
          "output_type": "execute_result",
          "data": {
            "text/latex": "$\\displaystyle 102$",
            "text/plain": [
              "102"
            ]
          },
          "metadata": {},
          "execution_count": 51
        }
      ]
    },
    {
      "cell_type": "markdown",
      "source": [
        "TH 9 "
      ],
      "metadata": {
        "id": "DNAtVoxZtZYe"
      }
    },
    {
      "cell_type": "code",
      "source": [
        "from sympy import Derivative, Symbol\n",
        "x=Symbol('x')\n",
        "f=(x**3+x**2+x)+(x**2+x)\n",
        "Derivative(f,x).doit()"
      ],
      "metadata": {
        "colab": {
          "base_uri": "https://localhost:8080/",
          "height": 39
        },
        "id": "4mpwWCoHtYsQ",
        "outputId": "6350d4e4-eef5-4484-8924-7fdf0ed377b4"
      },
      "execution_count": 52,
      "outputs": [
        {
          "output_type": "execute_result",
          "data": {
            "text/latex": "$\\displaystyle 3 x^{2} + 4 x + 2$",
            "text/plain": [
              "3*x**2 + 4*x + 2"
            ]
          },
          "metadata": {},
          "execution_count": 52
        }
      ]
    }
  ]
}