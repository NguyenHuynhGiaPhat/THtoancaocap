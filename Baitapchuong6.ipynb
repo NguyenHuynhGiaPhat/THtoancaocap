{
  "nbformat": 4,
  "nbformat_minor": 0,
  "metadata": {
    "colab": {
      "name": "Baitapchuong6.ipynb",
      "provenance": [],
      "authorship_tag": "ABX9TyMU0yMKZtxEn0E642EFoiCG",
      "include_colab_link": true
    },
    "kernelspec": {
      "name": "python3",
      "display_name": "Python 3"
    },
    "language_info": {
      "name": "python"
    }
  },
  "cells": [
    {
      "cell_type": "markdown",
      "metadata": {
        "id": "view-in-github",
        "colab_type": "text"
      },
      "source": [
        "<a href=\"https://colab.research.google.com/github/NguyenHuynhGiaPhat/THtoancaocap/blob/main/Baitapchuong6.ipynb\" target=\"_parent\"><img src=\"https://colab.research.google.com/assets/colab-badge.svg\" alt=\"Open In Colab\"/></a>"
      ]
    },
    {
      "cell_type": "markdown",
      "source": [
        "TH 1\n"
      ],
      "metadata": {
        "id": "Alpff0UJEkia"
      }
    },
    {
      "cell_type": "code",
      "execution_count": 1,
      "metadata": {
        "colab": {
          "base_uri": "https://localhost:8080/"
        },
        "id": "YVflT7BhqyWm",
        "outputId": "b8c1a0f1-04ba-4817-d69b-0abb102baf15"
      },
      "outputs": [
        {
          "output_type": "execute_result",
          "data": {
            "text/plain": [
              "6"
            ]
          },
          "metadata": {},
          "execution_count": 1
        }
      ],
      "source": [
        "import math\n",
        "def giaithua(n):\n",
        "  if (n==0):\n",
        "    return 1\n",
        "  else:\n",
        "    return n*giaithua(n-1)\n",
        "giaithua(3)"
      ]
    },
    {
      "cell_type": "code",
      "source": [
        "giaithua(4)"
      ],
      "metadata": {
        "colab": {
          "base_uri": "https://localhost:8080/"
        },
        "id": "9q4AhqjyEpph",
        "outputId": "e13455e7-91bb-46f5-cc67-3df9b99dadbf"
      },
      "execution_count": 2,
      "outputs": [
        {
          "output_type": "execute_result",
          "data": {
            "text/plain": [
              "24"
            ]
          },
          "metadata": {},
          "execution_count": 2
        }
      ]
    },
    {
      "cell_type": "markdown",
      "source": [
        "TH 2 \n"
      ],
      "metadata": {
        "id": "9Q8BSyw4EqbZ"
      }
    },
    {
      "cell_type": "code",
      "source": [
        "def fibo(n):\n",
        "  if n == 0:\n",
        "    return 0\n",
        "  if n ==1:\n",
        "    return 1\n",
        "  return fibo(n-1)+fibo(n-2)\n",
        "fibo(4)"
      ],
      "metadata": {
        "colab": {
          "base_uri": "https://localhost:8080/"
        },
        "id": "lqYJ9V5qEsuL",
        "outputId": "8ccc4c43-1dc1-43ab-df3a-e875ec22519c"
      },
      "execution_count": 3,
      "outputs": [
        {
          "output_type": "execute_result",
          "data": {
            "text/plain": [
              "3"
            ]
          },
          "metadata": {},
          "execution_count": 3
        }
      ]
    },
    {
      "cell_type": "code",
      "source": [
        "fibo(5)"
      ],
      "metadata": {
        "colab": {
          "base_uri": "https://localhost:8080/"
        },
        "id": "2gO8AwUoEvvJ",
        "outputId": "6a5b4120-97fa-497d-eaec-a8ab0f288a99"
      },
      "execution_count": 4,
      "outputs": [
        {
          "output_type": "execute_result",
          "data": {
            "text/plain": [
              "5"
            ]
          },
          "metadata": {},
          "execution_count": 4
        }
      ]
    },
    {
      "cell_type": "code",
      "source": [
        "fibo(6)"
      ],
      "metadata": {
        "colab": {
          "base_uri": "https://localhost:8080/"
        },
        "id": "s6tVBL3REwxh",
        "outputId": "e8d4ead8-5948-4dde-b8ce-656c8b8354a8"
      },
      "execution_count": 5,
      "outputs": [
        {
          "output_type": "execute_result",
          "data": {
            "text/plain": [
              "8"
            ]
          },
          "metadata": {},
          "execution_count": 5
        }
      ]
    },
    {
      "cell_type": "markdown",
      "source": [
        "TH 3 \n"
      ],
      "metadata": {
        "id": "iMrEDBydExgp"
      }
    },
    {
      "cell_type": "code",
      "source": [
        "def an_exp_an(n):\n",
        "  if n ==1:\n",
        "    return 1.0/2\n",
        "  else:\n",
        "    return an_exp_an(n-1)**an_exp_an(n-1)\n",
        "an_exp_an(1)"
      ],
      "metadata": {
        "colab": {
          "base_uri": "https://localhost:8080/"
        },
        "id": "yP7I9k3qEy9J",
        "outputId": "60363df0-da43-476f-f35b-2cf59cfc5a8d"
      },
      "execution_count": 6,
      "outputs": [
        {
          "output_type": "execute_result",
          "data": {
            "text/plain": [
              "0.5"
            ]
          },
          "metadata": {},
          "execution_count": 6
        }
      ]
    },
    {
      "cell_type": "code",
      "source": [
        "an_exp_an(2)"
      ],
      "metadata": {
        "colab": {
          "base_uri": "https://localhost:8080/"
        },
        "id": "0uSchAfPE20J",
        "outputId": "72b5e5d5-640f-42e0-f003-617cbe7a8915"
      },
      "execution_count": 7,
      "outputs": [
        {
          "output_type": "execute_result",
          "data": {
            "text/plain": [
              "0.7071067811865476"
            ]
          },
          "metadata": {},
          "execution_count": 7
        }
      ]
    },
    {
      "cell_type": "code",
      "source": [
        "an_exp_an(3)"
      ],
      "metadata": {
        "colab": {
          "base_uri": "https://localhost:8080/"
        },
        "id": "jf5L-2k4E4gR",
        "outputId": "fd043b2d-8ddc-44fb-940d-2c52df576abe"
      },
      "execution_count": 8,
      "outputs": [
        {
          "output_type": "execute_result",
          "data": {
            "text/plain": [
              "0.7826540273556803"
            ]
          },
          "metadata": {},
          "execution_count": 8
        }
      ]
    },
    {
      "cell_type": "code",
      "source": [
        "an_exp_an(4)"
      ],
      "metadata": {
        "colab": {
          "base_uri": "https://localhost:8080/"
        },
        "id": "6AFGtmw5E5ii",
        "outputId": "5e9e7635-0a14-4c9e-cf51-af22a7f7e1c9"
      },
      "execution_count": 9,
      "outputs": [
        {
          "output_type": "execute_result",
          "data": {
            "text/plain": [
              "0.8254713306050621"
            ]
          },
          "metadata": {},
          "execution_count": 9
        }
      ]
    },
    {
      "cell_type": "code",
      "source": [
        "an_exp_an(5)"
      ],
      "metadata": {
        "colab": {
          "base_uri": "https://localhost:8080/"
        },
        "id": "uvHOlyqeE6n5",
        "outputId": "ec0dada5-827e-4bb7-bff4-ef5ed25a5e67"
      },
      "execution_count": 10,
      "outputs": [
        {
          "output_type": "execute_result",
          "data": {
            "text/plain": [
              "0.8535714578150946"
            ]
          },
          "metadata": {},
          "execution_count": 10
        }
      ]
    },
    {
      "cell_type": "code",
      "source": [
        "an_exp_an(10)"
      ],
      "metadata": {
        "colab": {
          "base_uri": "https://localhost:8080/"
        },
        "id": "XzmH6aA9E7s5",
        "outputId": "bf7b6448-7058-406d-abd0-e8d62da3969f"
      },
      "execution_count": 11,
      "outputs": [
        {
          "output_type": "execute_result",
          "data": {
            "text/plain": [
              "0.9176411981636667"
            ]
          },
          "metadata": {},
          "execution_count": 11
        }
      ]
    },
    {
      "cell_type": "markdown",
      "source": [
        "TH 4 \n"
      ],
      "metadata": {
        "id": "0wG1D8cgHClR"
      }
    },
    {
      "cell_type": "code",
      "source": [
        "def bai4(n):\n",
        "  if n==1:\n",
        "    return 4\n",
        "  else:\n",
        "    return 5.0/(6-bai4(n-1))\n",
        "    "
      ],
      "metadata": {
        "id": "sWFInaa4HDvw"
      },
      "execution_count": 12,
      "outputs": []
    },
    {
      "cell_type": "code",
      "source": [
        "bai4(5) "
      ],
      "metadata": {
        "colab": {
          "base_uri": "https://localhost:8080/"
        },
        "id": "ezS9__xDHZ4o",
        "outputId": "8c279ddf-e5f9-4e52-e108-34e38c865811"
      },
      "execution_count": 13,
      "outputs": [
        {
          "output_type": "execute_result",
          "data": {
            "text/plain": [
              "1.019108280254777"
            ]
          },
          "metadata": {},
          "execution_count": 13
        }
      ]
    },
    {
      "cell_type": "code",
      "source": [
        "bai4(6) "
      ],
      "metadata": {
        "colab": {
          "base_uri": "https://localhost:8080/"
        },
        "id": "vebX_oV2Hb8g",
        "outputId": "7dbb4d25-399b-4e3d-a164-abbe55136e2f"
      },
      "execution_count": 14,
      "outputs": [
        {
          "output_type": "execute_result",
          "data": {
            "text/plain": [
              "1.0038363171355498"
            ]
          },
          "metadata": {},
          "execution_count": 14
        }
      ]
    },
    {
      "cell_type": "code",
      "source": [
        "bai4(7) "
      ],
      "metadata": {
        "colab": {
          "base_uri": "https://localhost:8080/"
        },
        "id": "nKKGL6x4HdrP",
        "outputId": "f5f172d0-44fe-4cfe-dc97-ab3c9722410f"
      },
      "execution_count": 15,
      "outputs": [
        {
          "output_type": "execute_result",
          "data": {
            "text/plain": [
              "1.000767852572306"
            ]
          },
          "metadata": {},
          "execution_count": 15
        }
      ]
    },
    {
      "cell_type": "code",
      "source": [
        "bai4(10) "
      ],
      "metadata": {
        "colab": {
          "base_uri": "https://localhost:8080/"
        },
        "id": "Jo44hNSRHgVQ",
        "outputId": "c9af3a71-1342-4c2e-ee2b-29d11482c57c"
      },
      "execution_count": 16,
      "outputs": [
        {
          "output_type": "execute_result",
          "data": {
            "text/plain": [
              "1.0000061439905628"
            ]
          },
          "metadata": {},
          "execution_count": 16
        }
      ]
    },
    {
      "cell_type": "code",
      "source": [
        " bai4(100) "
      ],
      "metadata": {
        "colab": {
          "base_uri": "https://localhost:8080/"
        },
        "id": "jOVKrGXyHho3",
        "outputId": "76bad965-a919-4420-ee4a-8558ddeda053"
      },
      "execution_count": 17,
      "outputs": [
        {
          "output_type": "execute_result",
          "data": {
            "text/plain": [
              "1.0"
            ]
          },
          "metadata": {},
          "execution_count": 17
        }
      ]
    },
    {
      "cell_type": "markdown",
      "source": [
        "=> Các kết quả trên để nhận định đây là giảmgiảm"
      ],
      "metadata": {
        "id": "gwjZMMraHlXG"
      }
    },
    {
      "cell_type": "markdown",
      "source": [
        "TH 5 \n"
      ],
      "metadata": {
        "id": "Pl-K7Wx-Ho9x"
      }
    },
    {
      "cell_type": "code",
      "source": [
        "def tisoFibo(n):\n",
        "  if n == 1:\n",
        "    return 1\n",
        "  else:\n",
        "    return 1.0 + 1.0/tisoFibo(n-1)\n",
        "for i in range(1,11):\n",
        "  print(i, tisoFibo(i))"
      ],
      "metadata": {
        "colab": {
          "base_uri": "https://localhost:8080/"
        },
        "id": "DekgKdU5IHOg",
        "outputId": "5bb45db2-6bb7-4bdd-defa-c85206b62b6c"
      },
      "execution_count": 19,
      "outputs": [
        {
          "output_type": "stream",
          "name": "stdout",
          "text": [
            "1 1\n",
            "2 2.0\n",
            "3 1.5\n",
            "4 1.6666666666666665\n",
            "5 1.6\n",
            "6 1.625\n",
            "7 1.6153846153846154\n",
            "8 1.619047619047619\n",
            "9 1.6176470588235294\n",
            "10 1.6181818181818182\n"
          ]
        }
      ]
    }
  ]
}