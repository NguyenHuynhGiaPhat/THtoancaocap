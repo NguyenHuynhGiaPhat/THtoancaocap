{
  "nbformat": 4,
  "nbformat_minor": 0,
  "metadata": {
    "colab": {
      "name": "Baitapchuong3.ipynb",
      "provenance": [],
      "collapsed_sections": [],
      "authorship_tag": "ABX9TyNaaeeWUuFG7jFO3QKRBRcr",
      "include_colab_link": true
    },
    "kernelspec": {
      "name": "python3",
      "display_name": "Python 3"
    },
    "language_info": {
      "name": "python"
    }
  },
  "cells": [
    {
      "cell_type": "markdown",
      "metadata": {
        "id": "view-in-github",
        "colab_type": "text"
      },
      "source": [
        "<a href=\"https://colab.research.google.com/github/NguyenHuynhGiaPhat/THtoancaocap/blob/main/Baitapchuong3.ipynb\" target=\"_parent\"><img src=\"https://colab.research.google.com/assets/colab-badge.svg\" alt=\"Open In Colab\"/></a>"
      ]
    },
    {
      "cell_type": "markdown",
      "source": [
        "Thực hành 1\n"
      ],
      "metadata": {
        "id": "ANPeKwopH4pR"
      }
    },
    {
      "cell_type": "code",
      "source": [
        "def luythua(x,n):\n",
        "  ketqua = 1 \n",
        "  for i in range(1):\n",
        "    ketqua = ketqua *2\n",
        "    return ketqua\n"
      ],
      "metadata": {
        "id": "FUsCFz5OH7gv"
      },
      "execution_count": null,
      "outputs": []
    },
    {
      "cell_type": "code",
      "source": [
        "luythua(2,1)"
      ],
      "metadata": {
        "colab": {
          "base_uri": "https://localhost:8080/"
        },
        "id": "XpqqPPkWIcQn",
        "outputId": "0e68b867-e31e-4d95-e667-1564eac53079"
      },
      "execution_count": null,
      "outputs": [
        {
          "output_type": "execute_result",
          "data": {
            "text/plain": [
              "2"
            ]
          },
          "metadata": {},
          "execution_count": 4
        }
      ]
    },
    {
      "cell_type": "code",
      "source": [
        "luythua(2,0)"
      ],
      "metadata": {
        "colab": {
          "base_uri": "https://localhost:8080/"
        },
        "id": "WNyfhqpnIn4G",
        "outputId": "e59fe97a-3391-48a0-d992-875fc471edc1"
      },
      "execution_count": null,
      "outputs": [
        {
          "output_type": "execute_result",
          "data": {
            "text/plain": [
              "2"
            ]
          },
          "metadata": {},
          "execution_count": 5
        }
      ]
    },
    {
      "cell_type": "markdown",
      "source": [
        "Thực hành 2 \n"
      ],
      "metadata": {
        "id": "2Uw7APNBJrBY"
      }
    },
    {
      "cell_type": "code",
      "source": [
        "while 1 = 2:"
      ],
      "metadata": {
        "colab": {
          "base_uri": "https://localhost:8080/",
          "height": 130
        },
        "id": "ii9BWuR0JsaT",
        "outputId": "2fc64f6f-e5e1-45d2-8b77-b76e0c7aaea7"
      },
      "execution_count": null,
      "outputs": [
        {
          "output_type": "error",
          "ename": "SyntaxError",
          "evalue": "ignored",
          "traceback": [
            "\u001b[0;36m  File \u001b[0;32m\"<ipython-input-10-03efd44ee389>\"\u001b[0;36m, line \u001b[0;32m1\u001b[0m\n\u001b[0;31m    while 1 = 2:\u001b[0m\n\u001b[0m            ^\u001b[0m\n\u001b[0;31mSyntaxError\u001b[0m\u001b[0;31m:\u001b[0m invalid syntax\n"
          ]
        }
      ]
    },
    {
      "cell_type": "code",
      "source": [
        "10*(1/0)"
      ],
      "metadata": {
        "colab": {
          "base_uri": "https://localhost:8080/",
          "height": 165
        },
        "id": "clyRYHNxKUqk",
        "outputId": "8cbdee13-af2f-44d9-acab-437244062e97"
      },
      "execution_count": null,
      "outputs": [
        {
          "output_type": "error",
          "ename": "ZeroDivisionError",
          "evalue": "ignored",
          "traceback": [
            "\u001b[0;31m---------------------------------------------------------------------------\u001b[0m",
            "\u001b[0;31mZeroDivisionError\u001b[0m                         Traceback (most recent call last)",
            "\u001b[0;32m<ipython-input-16-fbc7e86ae71a>\u001b[0m in \u001b[0;36m<module>\u001b[0;34m()\u001b[0m\n\u001b[0;32m----> 1\u001b[0;31m \u001b[0;36m10\u001b[0m\u001b[0;34m*\u001b[0m\u001b[0;34m(\u001b[0m\u001b[0;36m1\u001b[0m\u001b[0;34m/\u001b[0m\u001b[0;36m0\u001b[0m\u001b[0;34m)\u001b[0m\u001b[0;34m\u001b[0m\u001b[0;34m\u001b[0m\u001b[0m\n\u001b[0m",
            "\u001b[0;31mZeroDivisionError\u001b[0m: division by zero"
          ]
        }
      ]
    },
    {
      "cell_type": "code",
      "source": [
        "3* bien_chua_khai_bao/4"
      ],
      "metadata": {
        "colab": {
          "base_uri": "https://localhost:8080/",
          "height": 165
        },
        "id": "5zEIYoX_KYIR",
        "outputId": "a25ee557-9cc0-42cc-dad2-5a99ffb38ea3"
      },
      "execution_count": null,
      "outputs": [
        {
          "output_type": "error",
          "ename": "NameError",
          "evalue": "ignored",
          "traceback": [
            "\u001b[0;31m---------------------------------------------------------------------------\u001b[0m",
            "\u001b[0;31mNameError\u001b[0m                                 Traceback (most recent call last)",
            "\u001b[0;32m<ipython-input-13-f974259362b7>\u001b[0m in \u001b[0;36m<module>\u001b[0;34m()\u001b[0m\n\u001b[0;32m----> 1\u001b[0;31m \u001b[0;36m3\u001b[0m\u001b[0;34m*\u001b[0m \u001b[0mbien_chua_khai_bao\u001b[0m\u001b[0;34m/\u001b[0m\u001b[0;36m4\u001b[0m\u001b[0;34m\u001b[0m\u001b[0;34m\u001b[0m\u001b[0m\n\u001b[0m",
            "\u001b[0;31mNameError\u001b[0m: name 'bien_chua_khai_bao' is not defined"
          ]
        }
      ]
    },
    {
      "cell_type": "code",
      "source": [
        "'ba'+7"
      ],
      "metadata": {
        "colab": {
          "base_uri": "https://localhost:8080/",
          "height": 165
        },
        "id": "e3f2a2lVKwsd",
        "outputId": "86ad1b9d-1123-4f85-bfdf-410a23102e66"
      },
      "execution_count": null,
      "outputs": [
        {
          "output_type": "error",
          "ename": "TypeError",
          "evalue": "ignored",
          "traceback": [
            "\u001b[0;31m---------------------------------------------------------------------------\u001b[0m",
            "\u001b[0;31mTypeError\u001b[0m                                 Traceback (most recent call last)",
            "\u001b[0;32m<ipython-input-15-c90c3469dd70>\u001b[0m in \u001b[0;36m<module>\u001b[0;34m()\u001b[0m\n\u001b[0;32m----> 1\u001b[0;31m \u001b[0;34m'ba'\u001b[0m\u001b[0;34m+\u001b[0m\u001b[0;36m7\u001b[0m\u001b[0;34m\u001b[0m\u001b[0;34m\u001b[0m\u001b[0m\n\u001b[0m",
            "\u001b[0;31mTypeError\u001b[0m: can only concatenate str (not \"int\") to str"
          ]
        }
      ]
    },
    {
      "cell_type": "code",
      "source": [
        "'ba'+(1/0)"
      ],
      "metadata": {
        "colab": {
          "base_uri": "https://localhost:8080/",
          "height": 165
        },
        "id": "Pr6fuR0JK15O",
        "outputId": "03d4c1df-394b-4545-f5ee-6da9e2096527"
      },
      "execution_count": null,
      "outputs": [
        {
          "output_type": "error",
          "ename": "ZeroDivisionError",
          "evalue": "ignored",
          "traceback": [
            "\u001b[0;31m---------------------------------------------------------------------------\u001b[0m",
            "\u001b[0;31mZeroDivisionError\u001b[0m                         Traceback (most recent call last)",
            "\u001b[0;32m<ipython-input-17-8ee4105b9dad>\u001b[0m in \u001b[0;36m<module>\u001b[0;34m()\u001b[0m\n\u001b[0;32m----> 1\u001b[0;31m \u001b[0;34m'ba'\u001b[0m\u001b[0;34m+\u001b[0m\u001b[0;34m(\u001b[0m\u001b[0;36m1\u001b[0m\u001b[0;34m/\u001b[0m\u001b[0;36m0\u001b[0m\u001b[0;34m)\u001b[0m\u001b[0;34m\u001b[0m\u001b[0;34m\u001b[0m\u001b[0m\n\u001b[0m",
            "\u001b[0;31mZeroDivisionError\u001b[0m: division by zero"
          ]
        }
      ]
    },
    {
      "cell_type": "code",
      "source": [
        "'ba'+7+(1/00)"
      ],
      "metadata": {
        "colab": {
          "base_uri": "https://localhost:8080/",
          "height": 165
        },
        "id": "S2Q3JP8FK-_F",
        "outputId": "08ec3e15-487d-4bf9-9ff5-f8628cecf511"
      },
      "execution_count": null,
      "outputs": [
        {
          "output_type": "error",
          "ename": "TypeError",
          "evalue": "ignored",
          "traceback": [
            "\u001b[0;31m---------------------------------------------------------------------------\u001b[0m",
            "\u001b[0;31mTypeError\u001b[0m                                 Traceback (most recent call last)",
            "\u001b[0;32m<ipython-input-18-1fd3105134bc>\u001b[0m in \u001b[0;36m<module>\u001b[0;34m()\u001b[0m\n\u001b[0;32m----> 1\u001b[0;31m \u001b[0;34m'ba'\u001b[0m\u001b[0;34m+\u001b[0m\u001b[0;36m7\u001b[0m\u001b[0;34m+\u001b[0m\u001b[0;34m(\u001b[0m\u001b[0;36m1\u001b[0m\u001b[0;34m/\u001b[0m\u001b[0;36m00\u001b[0m\u001b[0;34m)\u001b[0m\u001b[0;34m\u001b[0m\u001b[0;34m\u001b[0m\u001b[0m\n\u001b[0m",
            "\u001b[0;31mTypeError\u001b[0m: can only concatenate str (not \"int\") to str"
          ]
        }
      ]
    },
    {
      "cell_type": "markdown",
      "source": [
        "Thực hành 3"
      ],
      "metadata": {
        "id": "Hu3g5LeKLf_l"
      }
    },
    {
      "cell_type": "code",
      "source": [
        "try:\n",
        "    x = int(input('x =  '))\n",
        "    n = 10/x\n",
        "except ZeroDivisionZeroDivision :\n",
        "  print('sai')"
      ],
      "metadata": {
        "colab": {
          "base_uri": "https://localhost:8080/"
        },
        "id": "Sb6RnGhzLhT2",
        "outputId": "645d2f85-6d2b-4bdb-8c5c-65bab6386cb8"
      },
      "execution_count": null,
      "outputs": [
        {
          "name": "stdout",
          "output_type": "stream",
          "text": [
            "x =  6\n"
          ]
        }
      ]
    },
    {
      "cell_type": "markdown",
      "source": [
        "Thực hành 4"
      ],
      "metadata": {
        "id": "drercKf4Sk2u"
      }
    },
    {
      "cell_type": "code",
      "source": [
        "while True:\n",
        "  try:\n",
        "     x=int(input('x='))\n",
        "  except:\n",
        "    print('sai')\n",
        "  else:\n",
        "    print('so vua nhap la'+str(x))\n",
        "    break\n",
        "  finally:\n",
        "    print('ket thuc')\n"
      ],
      "metadata": {
        "id": "sulSMBHGSmZ8",
        "colab": {
          "base_uri": "https://localhost:8080/"
        },
        "outputId": "bb9d1525-ce8a-452c-c191-5fb91f193b9a"
      },
      "execution_count": 1,
      "outputs": [
        {
          "output_type": "stream",
          "name": "stdout",
          "text": [
            "x=23\n",
            "so vua nhap la23\n",
            "ket thuc\n"
          ]
        }
      ]
    },
    {
      "cell_type": "code",
      "source": [
        "TH 5 "
      ],
      "metadata": {
        "id": "VWcy2QO5y5aj"
      },
      "execution_count": null,
      "outputs": []
    },
    {
      "cell_type": "code",
      "source": [
        "def frange(batdau,ketthuc,buocnhay):\n",
        "  day_ketqua = []\n",
        "  while batdau < ketthuc:\n",
        "    day_ketqua.append(batdau)\n",
        "    batdau = batdau + buocnhay\n",
        "  return day_ketqua  "
      ],
      "metadata": {
        "id": "JqVxXcpUzIVz"
      },
      "execution_count": 5,
      "outputs": []
    },
    {
      "cell_type": "code",
      "source": [
        "tu0den2 = frange(0 , 2,0.2)\n",
        "tu0den2 "
      ],
      "metadata": {
        "colab": {
          "base_uri": "https://localhost:8080/"
        },
        "id": "_vthFCnYzjyi",
        "outputId": "e3feeb16-28ca-4407-824f-88e4abce069d"
      },
      "execution_count": 8,
      "outputs": [
        {
          "output_type": "execute_result",
          "data": {
            "text/plain": [
              "[0,\n",
              " 0.2,\n",
              " 0.4,\n",
              " 0.6000000000000001,\n",
              " 0.8,\n",
              " 1.0,\n",
              " 1.2,\n",
              " 1.4,\n",
              " 1.5999999999999999,\n",
              " 1.7999999999999998,\n",
              " 1.9999999999999998]"
            ]
          },
          "metadata": {},
          "execution_count": 8
        }
      ]
    },
    {
      "cell_type": "markdown",
      "source": [
        "TH 66"
      ],
      "metadata": {
        "id": "xCrsI_2s0TfS"
      }
    },
    {
      "cell_type": "code",
      "source": [
        "from matplotlib import  pyplot as plt \n",
        "import math\n"
      ],
      "metadata": {
        "id": "s--ksdnX0S-i"
      },
      "execution_count": 9,
      "outputs": []
    },
    {
      "cell_type": "code",
      "source": [
        "from itertools import starmap\n",
        "def draw_graph(x,y):\n",
        "  plt.plot(x,y)\n",
        "  plt.xlabel('Truc X')\n",
        "  plt.ylabel('Truc Y')\n",
        "  plt.title('De thi bai toan nem bong')"
      ],
      "metadata": {
        "id": "VF7UoGLo0jTa"
      },
      "execution_count": 10,
      "outputs": []
    },
    {
      "cell_type": "code",
      "source": [
        "def frange(start, final, intervals):\n",
        "  number = []\n",
        "  while start < final:\n",
        "    number.append(start)\n",
        "    start = start + intervals\n",
        "  return number"
      ],
      "metadata": {
        "id": "tnHaM5Hl0yli"
      },
      "execution_count": null,
      "outputs": []
    },
    {
      "cell_type": "code",
      "source": [
        "def draw_trajectory(u,theta):\n",
        "  import math\n",
        "  g = 9.8\n",
        "  theta = math.radians(theta)\n",
        "  t_flight = 2*u*math.sin(theta)/g\n",
        "  intervals = frange(0, t_flight, 0.001)\n",
        "  x = []\n",
        "  y = []\n",
        "  for t in intervals:\n",
        "   x.append(u*math.cos(theta)*t)\n",
        "   y.append(u*math.sin(theta)*t - 0.5*g*t*t)\n",
        "   draw_graph(x,y)"
      ],
      "metadata": {
        "id": "A60MpcQw026K"
      },
      "execution_count": 20,
      "outputs": []
    },
    {
      "cell_type": "code",
      "source": [
        "if __name__=='__main__':\n",
        "  try:\n",
        "    u = float(input('Nhap van toc ban dau (m/s):'))\n",
        "    theta = float(input('Nhap goc bay (degrees):'))\n",
        "  except ValueError:\n",
        "    print('Nhap cac gia tri sai!')\n",
        "  else:\n",
        "    draw_trajectory(u,theta)\n",
        "    plt.show()\n",
        "  finally:\n",
        "    print('Hoan thanh chuong trinh!')"
      ],
      "metadata": {
        "colab": {
          "base_uri": "https://localhost:8080/",
          "height": 347
        },
        "id": "pBslYX9Q06Hy",
        "outputId": "8ad35833-df1b-453c-b33f-5b75add51d96"
      },
      "execution_count": 21,
      "outputs": [
        {
          "name": "stdout",
          "output_type": "stream",
          "text": [
            "Nhap van toc ban dau (m/s):20\n",
            "Nhap goc bay (degrees):40\n"
          ]
        },
        {
          "output_type": "display_data",
          "data": {
            "image/png": "[encoded data removed]",
            "text/plain": [
              "<Figure size 432x288 with 1 Axes>"
            ]
          },
          "metadata": {
            "needs_background": "light"
          }
        },
        {
          "output_type": "stream",
          "name": "stdout",
          "text": [
            "Hoan thanh chuong trinh!\n"
          ]
        }
      ]
    },
    {
      "cell_type": "markdown",
      "source": [
        "TH 7\n"
      ],
      "metadata": {
        "id": "PLo8XaG11-JK"
      }
    },
    {
      "cell_type": "code",
      "source": [
        "if __name__=='__main__':\n",
        "  ds_vantoc = [20,40,60]\n",
        "  goc_bandau = 45\n",
        "  for v in ds_vantoc:\n",
        "   draw_trajectory(v, goc_bandau)\n",
        "   \n",
        "  chudan = []\n",
        "  for i in ds_vantoc:\n",
        "    chudan.append(str(i))\n",
        "  print('Chu dan duoc tao la:')\n",
        "  print(chudan)\n",
        "  plt.legend(chudan)\n",
        "  plt.show() "
      ],
      "metadata": {
        "id": "tj4q9AeQ197C"
      },
      "execution_count": null,
      "outputs": []
    },
    {
      "cell_type": "markdown",
      "source": [
        "TH 8\n"
      ],
      "metadata": {
        "id": "cK5tRfDx6Hln"
      }
    },
    {
      "cell_type": "code",
      "source": [
        "from sympy import Symbol, Derivative, sympify, pprint\n",
        "def tinh_daoham(ham_f,bien):\n",
        "    bien = Symbol(bien)\n",
        "    d = Derivative(ham_f,bien).doit()\n",
        "    pprint(d) \n",
        "\n",
        "    "
      ],
      "metadata": {
        "id": "_UlR-kLr6HbX"
      },
      "execution_count": 19,
      "outputs": []
    }
  ]
}